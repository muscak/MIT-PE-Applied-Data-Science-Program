{
 "cells": [
  {
   "cell_type": "markdown",
   "metadata": {},
   "source": [
    "# Loan Default Prediction - Data Preparation\n",
    "\n",
    "In this notebook, we'll prepare the data for Machine Learning algorithms to make them perform better. In the scope of this part of the study, we'll:\n",
    "\n",
    "- We'll check the number of unique values for each column.\n",
    "- We'll drop the duplicated records.\n",
    "- Handle missing values.\n",
    "- Handle outliers.\n",
    "- Scale the numeric values.\n",
    "- Encode the categorical values.\n",
    "\n",
    "At the end of this notebook will save the prepared data into a .csv file which will be used as an input to the predictive model study."
   ]
  },
  {
   "cell_type": "markdown",
   "metadata": {},
   "source": [
    "## Import the necessary libraries and Data"
   ]
  },
  {
   "cell_type": "code",
   "execution_count": 35,
   "metadata": {},
   "outputs": [],
   "source": [
    "# Regular EDA (exploratory data analysis) and plotting libraries\n",
    "import pandas as pd\n",
    "# Display only 3 digits after floating point in pandas objects\n",
    "pd.set_option('display.float_format', lambda x:'%.3f' % x)\n",
    "import numpy as np\n",
    "import matplotlib.pyplot as plt\n",
    "import seaborn as sb\n",
    "# Configure default settings for plots\n",
    "sb.set(style='ticks')\n",
    "sb.set_palette('Paired')\n",
    "plt.rcParams['axes.spines.top'] = False     # Remove top border\n",
    "plt.rcParams['axes.spines.right'] = False   # Remove righr border"
   ]
  },
  {
   "cell_type": "markdown",
   "metadata": {},
   "source": [
    "## Load Data"
   ]
  },
  {
   "cell_type": "code",
   "execution_count": 36,
   "metadata": {},
   "outputs": [
    {
     "data": {
      "text/html": [
       "<div>\n",
       "<style scoped>\n",
       "    .dataframe tbody tr th:only-of-type {\n",
       "        vertical-align: middle;\n",
       "    }\n",
       "\n",
       "    .dataframe tbody tr th {\n",
       "        vertical-align: top;\n",
       "    }\n",
       "\n",
       "    .dataframe thead th {\n",
       "        text-align: right;\n",
       "    }\n",
       "</style>\n",
       "<table border=\"1\" class=\"dataframe\">\n",
       "  <thead>\n",
       "    <tr style=\"text-align: right;\">\n",
       "      <th></th>\n",
       "      <th>BAD</th>\n",
       "      <th>LOAN</th>\n",
       "      <th>MORTDUE</th>\n",
       "      <th>VALUE</th>\n",
       "      <th>REASON</th>\n",
       "      <th>JOB</th>\n",
       "      <th>YOJ</th>\n",
       "      <th>DEROG</th>\n",
       "      <th>DELINQ</th>\n",
       "      <th>CLAGE</th>\n",
       "      <th>NINQ</th>\n",
       "      <th>CLNO</th>\n",
       "      <th>DEBTINC</th>\n",
       "    </tr>\n",
       "  </thead>\n",
       "  <tbody>\n",
       "    <tr>\n",
       "      <th>0</th>\n",
       "      <td>1</td>\n",
       "      <td>1100</td>\n",
       "      <td>25860.000</td>\n",
       "      <td>39025.000</td>\n",
       "      <td>HomeImp</td>\n",
       "      <td>Other</td>\n",
       "      <td>10.500</td>\n",
       "      <td>0.000</td>\n",
       "      <td>0.000</td>\n",
       "      <td>94.367</td>\n",
       "      <td>1.000</td>\n",
       "      <td>9.000</td>\n",
       "      <td>NaN</td>\n",
       "    </tr>\n",
       "    <tr>\n",
       "      <th>1</th>\n",
       "      <td>1</td>\n",
       "      <td>1300</td>\n",
       "      <td>70053.000</td>\n",
       "      <td>68400.000</td>\n",
       "      <td>HomeImp</td>\n",
       "      <td>Other</td>\n",
       "      <td>7.000</td>\n",
       "      <td>0.000</td>\n",
       "      <td>2.000</td>\n",
       "      <td>121.833</td>\n",
       "      <td>0.000</td>\n",
       "      <td>14.000</td>\n",
       "      <td>NaN</td>\n",
       "    </tr>\n",
       "    <tr>\n",
       "      <th>2</th>\n",
       "      <td>1</td>\n",
       "      <td>1500</td>\n",
       "      <td>13500.000</td>\n",
       "      <td>16700.000</td>\n",
       "      <td>HomeImp</td>\n",
       "      <td>Other</td>\n",
       "      <td>4.000</td>\n",
       "      <td>0.000</td>\n",
       "      <td>0.000</td>\n",
       "      <td>149.467</td>\n",
       "      <td>1.000</td>\n",
       "      <td>10.000</td>\n",
       "      <td>NaN</td>\n",
       "    </tr>\n",
       "    <tr>\n",
       "      <th>3</th>\n",
       "      <td>1</td>\n",
       "      <td>1500</td>\n",
       "      <td>NaN</td>\n",
       "      <td>NaN</td>\n",
       "      <td>NaN</td>\n",
       "      <td>NaN</td>\n",
       "      <td>NaN</td>\n",
       "      <td>NaN</td>\n",
       "      <td>NaN</td>\n",
       "      <td>NaN</td>\n",
       "      <td>NaN</td>\n",
       "      <td>NaN</td>\n",
       "      <td>NaN</td>\n",
       "    </tr>\n",
       "    <tr>\n",
       "      <th>4</th>\n",
       "      <td>0</td>\n",
       "      <td>1700</td>\n",
       "      <td>97800.000</td>\n",
       "      <td>112000.000</td>\n",
       "      <td>HomeImp</td>\n",
       "      <td>Office</td>\n",
       "      <td>3.000</td>\n",
       "      <td>0.000</td>\n",
       "      <td>0.000</td>\n",
       "      <td>93.333</td>\n",
       "      <td>0.000</td>\n",
       "      <td>14.000</td>\n",
       "      <td>NaN</td>\n",
       "    </tr>\n",
       "  </tbody>\n",
       "</table>\n",
       "</div>"
      ],
      "text/plain": [
       "   BAD  LOAN   MORTDUE      VALUE   REASON     JOB    YOJ  DEROG  DELINQ  \\\n",
       "0    1  1100 25860.000  39025.000  HomeImp   Other 10.500  0.000   0.000   \n",
       "1    1  1300 70053.000  68400.000  HomeImp   Other  7.000  0.000   2.000   \n",
       "2    1  1500 13500.000  16700.000  HomeImp   Other  4.000  0.000   0.000   \n",
       "3    1  1500       NaN        NaN      NaN     NaN    NaN    NaN     NaN   \n",
       "4    0  1700 97800.000 112000.000  HomeImp  Office  3.000  0.000   0.000   \n",
       "\n",
       "    CLAGE  NINQ   CLNO  DEBTINC  \n",
       "0  94.367 1.000  9.000      NaN  \n",
       "1 121.833 0.000 14.000      NaN  \n",
       "2 149.467 1.000 10.000      NaN  \n",
       "3     NaN   NaN    NaN      NaN  \n",
       "4  93.333 0.000 14.000      NaN  "
      ]
     },
     "execution_count": 36,
     "metadata": {},
     "output_type": "execute_result"
    }
   ],
   "source": [
    "# Set directorty paths as global variable\n",
    "data_path = '../Data/Raw/'\n",
    "\n",
    "data = pd.read_csv(data_path + 'hmeq.csv')\n",
    "\n",
    "# Create a copy of the dataframe to secure it against changes\n",
    "df = data.copy() \n",
    "df.head()"
   ]
  },
  {
   "cell_type": "markdown",
   "metadata": {},
   "source": [
    "## Handling Missing Values"
   ]
  },
  {
   "cell_type": "code",
   "execution_count": 37,
   "metadata": {},
   "outputs": [],
   "source": [
    "def check_missing_values(data):\n",
    "    '''\n",
    "    Prints the number of features with missing values and it's percentage\n",
    "    in the dataset.\n",
    "\n",
    "    ---\n",
    "    ###Parameters\n",
    "    data <dataframe>: tabular data in data frame format.\n",
    "    '''\n",
    "    # Get columns with null values only\n",
    "    count = data.isnull().sum()[data.isnull().sum() > 0]\n",
    "    percentage = ((count / data.shape[0]) * 100)\n",
    "    \n",
    "    print(count.shape[0], 'colum(s) has missing values')\n",
    "    print('-'*50)\n",
    "    # Display the number of missing values and percentage of missing values to the total number of values for each column\n",
    "    print(pd.DataFrame({'Count':count, 'Percentage':percentage}))\n",
    "    \n",
    "    # Display the missing values in a heatmap\n",
    "    plt.figure(figsize=(10, 6))\n",
    "    sb.heatmap(data.isnull(), yticklabels=False, cmap='cividis', cbar=False)\n",
    "    plt.show(block=False)\n",
    "    \n",
    "    \n",
    "  "
   ]
  },
  {
   "cell_type": "code",
   "execution_count": 38,
   "metadata": {},
   "outputs": [
    {
     "name": "stdout",
     "output_type": "stream",
     "text": [
      "11 colum(s) has missing values\n",
      "--------------------------------------------------\n",
      "         Count  Percentage\n",
      "MORTDUE    518       8.691\n",
      "VALUE      112       1.879\n",
      "REASON     252       4.228\n",
      "JOB        279       4.681\n",
      "YOJ        515       8.641\n",
      "DEROG      708      11.879\n",
      "DELINQ     580       9.732\n",
      "CLAGE      308       5.168\n",
      "NINQ       510       8.557\n",
      "CLNO       222       3.725\n",
      "DEBTINC   1267      21.258\n"
     ]
    },
    {
     "data": {
      "image/png": "[encoded data removed]",
      "text/plain": [
       "<Figure size 1000x600 with 1 Axes>"
      ]
     },
     "metadata": {},
     "output_type": "display_data"
    }
   ],
   "source": [
    "check_missing_values(df)"
   ]
  },
  {
   "cell_type": "markdown",
   "metadata": {},
   "source": [
    "🔎 **Observations:** As mentioned the Data Overview section the feature with the highest number of missing values is DEBTINC. It has a strong correlation with the target so it's better to impute as much information as possible with this one. It's better to create 2 different version of the dataset as this point.\n",
    "1. The dataset with all the null values are dropped.\n",
    "2. The dataset null values are imputed as much as possible. This can have further  variants like:\n",
    "    \n",
    "    A. Using KNN imputer\n",
    "\n",
    "    B. Manual imputing\n",
    "\n",
    "Then these datasets can be fed to the models and perform the performance of the model."
   ]
  },
  {
   "cell_type": "markdown",
   "metadata": {},
   "source": [
    "### Dropping Missing Values"
   ]
  },
  {
   "cell_type": "code",
   "execution_count": 39,
   "metadata": {},
   "outputs": [
    {
     "name": "stdout",
     "output_type": "stream",
     "text": [
      "<class 'pandas.core.frame.DataFrame'>\n",
      "Int64Index: 3364 entries, 5 to 5959\n",
      "Data columns (total 13 columns):\n",
      " #   Column   Non-Null Count  Dtype  \n",
      "---  ------   --------------  -----  \n",
      " 0   BAD      3364 non-null   int64  \n",
      " 1   LOAN     3364 non-null   int64  \n",
      " 2   MORTDUE  3364 non-null   float64\n",
      " 3   VALUE    3364 non-null   float64\n",
      " 4   REASON   3364 non-null   object \n",
      " 5   JOB      3364 non-null   object \n",
      " 6   YOJ      3364 non-null   float64\n",
      " 7   DEROG    3364 non-null   float64\n",
      " 8   DELINQ   3364 non-null   float64\n",
      " 9   CLAGE    3364 non-null   float64\n",
      " 10  NINQ     3364 non-null   float64\n",
      " 11  CLNO     3364 non-null   float64\n",
      " 12  DEBTINC  3364 non-null   float64\n",
      "dtypes: float64(9), int64(2), object(2)\n",
      "memory usage: 367.9+ KB\n"
     ]
    }
   ],
   "source": [
    "df_no_null = df.dropna()\n",
    "df_no_null.info()"
   ]
  },
  {
   "cell_type": "code",
   "execution_count": 40,
   "metadata": {},
   "outputs": [],
   "source": [
    "# Function to create labeled barplots for categorical features\n",
    "def plot_counts(data, feature, perc = False, n = None, hue = None):\n",
    "  \"\"\"\n",
    "    This function takes the name of the feature and plots the distribution\n",
    "    of the categorical values and saves the figure for future usage using\n",
    "    countplot function of seaborn.\n",
    "\n",
    "    ---\n",
    "    ### Parameters:\n",
    "    - data <dataframe>: tabular data in data frame format.\n",
    "    - feature <string>: Name of categorical column in dataframe to be visualized.\n",
    "    - perc <bool>: whether to display percentages instead of count (default is False)\n",
    "    - n <int>: displays the top n category levels (default is None, i.e., display all levels)\n",
    "  \"\"\"\n",
    "\n",
    "  total = len(data[feature])            # How many number of rows are there in the feature?\n",
    "  num_unique = data[feature].nunique()  # How many unique number of category are there in the feature?\n",
    "\n",
    "  # Set the size of the figure according to the number of categories to be displayed\n",
    "  if n is None:\n",
    "    plt.figure(figsize = (num_unique+1, 5))\n",
    "  else:\n",
    "    plt.figure(figsize = (n+1, 5))\n",
    "\n",
    "  # Set the style of the ticks on x axis\n",
    "  plt.xticks(rotation=90, fontsize=12)\n",
    "\n",
    "  # Plot the counts for each category\n",
    "  ax = sb.countplot(\n",
    "      data=data,\n",
    "      x = feature,\n",
    "      palette = 'Paired',\n",
    "      order = data[feature].value_counts().index[:n].sort_values(),\n",
    "      hue = hue\n",
    "  )\n",
    "\n",
    "  # Display the percentage of each category on top of the bar\n",
    "  for p in ax.patches:\n",
    "    if perc == True:\n",
    "      label = '{:.1f}%'.format(\n",
    "          100 * p.get_height() / total  # Display percentage of each class of the category\n",
    "      )\n",
    "    else:\n",
    "      label = p.get_height() # Display count of each level of the category\n",
    "\n",
    "    x = p.get_x() + p.get_width() / 2 # Width of the plot\n",
    "    y = p.get_height() # Height of the plot\n",
    "\n",
    "    rotation = 0\n",
    "    if hue is not None:\n",
    "      rotation = 30  # Rotate annotations by 30 degrees if hue is not None\n",
    "\n",
    "\n",
    "    ax.annotate(\n",
    "        label,\n",
    "        (x, y),\n",
    "        ha = 'center',\n",
    "        va = 'center',\n",
    "        size = 12,\n",
    "        xytext = (0, 5),\n",
    "        textcoords = 'offset points',\n",
    "        rotation = rotation\n",
    "    )\n",
    "  plt.show()"
   ]
  },
  {
   "cell_type": "code",
   "execution_count": 41,
   "metadata": {},
   "outputs": [
    {
     "data": {
      "image/png": "[encoded data removed]",
      "text/plain": [
       "<Figure size 300x500 with 1 Axes>"
      ]
     },
     "metadata": {},
     "output_type": "display_data"
    }
   ],
   "source": [
    "plot_counts(df_no_null, 'BAD', perc=True)"
   ]
  },
  {
   "cell_type": "markdown",
   "metadata": {},
   "source": [
    "🔎 **Observations:** As you can be see in the [EDA Notebook](Loan_Default_Prediction%20-%20EDA.ipynb) the ratio of the defaulted loans was 20% in the original dataset. The dataset became more imbalanced after dropping all null values. This might have big impact on the generalization performance of the algorithms."
   ]
  },
  {
   "cell_type": "code",
   "execution_count": 42,
   "metadata": {},
   "outputs": [],
   "source": [
    "df_no_null.to_csv('../Data/Processed/hmeq_no_null.csv')"
   ]
  },
  {
   "cell_type": "markdown",
   "metadata": {},
   "source": [
    "### Imputing Missing Values\n",
    "\n",
    "In this section, we'll impute the missing values KNN Imputer."
   ]
  },
  {
   "cell_type": "code",
   "execution_count": 62,
   "metadata": {},
   "outputs": [],
   "source": [
    "# Convert the data type of these columns as explained in the EDA notebook\n",
    "df[['DEROG', 'DELINQ', 'CLAGE', 'NINQ', 'BAD']] = df[['DEROG', 'DELINQ', \n",
    "                                                      'CLAGE', 'NINQ', 'BAD']].astype('object')"
   ]
  },
  {
   "cell_type": "code",
   "execution_count": 53,
   "metadata": {},
   "outputs": [],
   "source": [
    "# Import LabelEncoder to encode string values in the object columns so KNN Imputer can work\n",
    "from sklearn.preprocessing import LabelEncoder"
   ]
  },
  {
   "cell_type": "code",
   "execution_count": 54,
   "metadata": {},
   "outputs": [
    {
     "name": "stdout",
     "output_type": "stream",
     "text": [
      "{'DebtCon': 0, 'HomeImp': 1, 'Unknown': 2}\n"
     ]
    }
   ],
   "source": [
    "label_encoder = LabelEncoder()\n",
    "\n",
    "# Replace NaN with a placeholder value (e.g., 'Unknown')\n",
    "df['REASON'].fillna('Unknown', inplace=True)\n",
    "df['REASON'] = label_encoder.fit_transform(df['REASON'])\n",
    "# To get the mapping of encoded values to original categories\n",
    "mapping = dict(zip(label_encoder.classes_, label_encoder.transform(label_encoder.classes_)))\n",
    "print(mapping)\n",
    "# Revert placeholder values back to NaN\n",
    "df['REASON'] = np.where(df['REASON'] == label_encoder.transform(['Unknown'])[0], np.nan, df['REASON'])"
   ]
  },
  {
   "cell_type": "code",
   "execution_count": 55,
   "metadata": {},
   "outputs": [
    {
     "name": "stdout",
     "output_type": "stream",
     "text": [
      "{'Mgr': 0, 'Office': 1, 'Other': 2, 'ProfExe': 3, 'Sales': 4, 'Self': 5, 'Unknown': 6}\n"
     ]
    }
   ],
   "source": [
    "# Do the same for JOB column\n",
    "df['JOB'].fillna('Unknown', inplace=True)\n",
    "df['JOB'] = label_encoder.fit_transform(df['JOB'])\n",
    "mapping = dict(zip(label_encoder.classes_, label_encoder.transform(label_encoder.classes_)))\n",
    "print(mapping)\n",
    "df['JOB'] = np.where(df['JOB'] == label_encoder.transform(['Unknown'])[0], np.nan, df['JOB'])"
   ]
  },
  {
   "cell_type": "code",
   "execution_count": 46,
   "metadata": {},
   "outputs": [],
   "source": [
    "# Import KNN Imputer library\n",
    "from sklearn.impute import KNNImputer"
   ]
  },
  {
   "cell_type": "code",
   "execution_count": 56,
   "metadata": {},
   "outputs": [],
   "source": [
    "# Impute the missing values using 5 number of neighbors\n",
    "imputer = KNNImputer(n_neighbors=5)\n",
    "\n",
    "x = df.drop('BAD', axis=1)\n",
    "imputer.fit(x)\n",
    "x_imputed = imputer.transform(x)"
   ]
  },
  {
   "cell_type": "code",
   "execution_count": 57,
   "metadata": {},
   "outputs": [
    {
     "name": "stdout",
     "output_type": "stream",
     "text": [
      "0\n"
     ]
    }
   ],
   "source": [
    "# Check if all the null values are imputed\n",
    "print(sum(np.isnan(x_imputed).flatten()))"
   ]
  },
  {
   "cell_type": "code",
   "execution_count": 59,
   "metadata": {},
   "outputs": [
    {
     "name": "stdout",
     "output_type": "stream",
     "text": [
      "<class 'pandas.core.frame.DataFrame'>\n",
      "RangeIndex: 5960 entries, 0 to 5959\n",
      "Data columns (total 12 columns):\n",
      " #   Column   Non-Null Count  Dtype  \n",
      "---  ------   --------------  -----  \n",
      " 0   LOAN     5960 non-null   float64\n",
      " 1   MORTDUE  5960 non-null   float64\n",
      " 2   VALUE    5960 non-null   float64\n",
      " 3   REASON   5960 non-null   float64\n",
      " 4   JOB      5960 non-null   float64\n",
      " 5   YOJ      5960 non-null   float64\n",
      " 6   DEROG    5960 non-null   float64\n",
      " 7   DELINQ   5960 non-null   float64\n",
      " 8   CLAGE    5960 non-null   float64\n",
      " 9   NINQ     5960 non-null   float64\n",
      " 10  CLNO     5960 non-null   float64\n",
      " 11  DEBTINC  5960 non-null   float64\n",
      "dtypes: float64(12)\n",
      "memory usage: 558.9 KB\n"
     ]
    }
   ],
   "source": [
    "# Convert the imputed numpy array into DataFrame object\n",
    "df_imputed = pd.DataFrame(x_imputed, columns=df.drop('BAD', axis=1).columns)\n",
    "df_imputed.info()"
   ]
  },
  {
   "cell_type": "code",
   "execution_count": 60,
   "metadata": {},
   "outputs": [
    {
     "name": "stdout",
     "output_type": "stream",
     "text": [
      "<class 'pandas.core.frame.DataFrame'>\n",
      "RangeIndex: 5960 entries, 0 to 5959\n",
      "Data columns (total 13 columns):\n",
      " #   Column   Non-Null Count  Dtype  \n",
      "---  ------   --------------  -----  \n",
      " 0   LOAN     5960 non-null   float64\n",
      " 1   MORTDUE  5960 non-null   float64\n",
      " 2   VALUE    5960 non-null   float64\n",
      " 3   REASON   5960 non-null   float64\n",
      " 4   JOB      5960 non-null   float64\n",
      " 5   YOJ      5960 non-null   float64\n",
      " 6   DEROG    5960 non-null   float64\n",
      " 7   DELINQ   5960 non-null   float64\n",
      " 8   CLAGE    5960 non-null   float64\n",
      " 9   NINQ     5960 non-null   float64\n",
      " 10  CLNO     5960 non-null   float64\n",
      " 11  DEBTINC  5960 non-null   float64\n",
      " 12  BAD      5960 non-null   object \n",
      "dtypes: float64(12), object(1)\n",
      "memory usage: 605.4+ KB\n"
     ]
    }
   ],
   "source": [
    "# Since we performed imputation on features, we need to add target values to the imputed dataframe\n",
    "df_imputed = pd.concat([df_imputed, df['BAD']], axis=1)\n",
    "df_imputed.info()"
   ]
  },
  {
   "cell_type": "code",
   "execution_count": 61,
   "metadata": {},
   "outputs": [],
   "source": [
    "# Extract it to a .csv file\n",
    "df_imputed.to_csv('../Data/Processed/hmeq_knn_imputed.csv', index=False)"
   ]
  },
  {
   "cell_type": "markdown",
   "metadata": {},
   "source": [
    "## Handling Outliers"
   ]
  },
  {
   "cell_type": "markdown",
   "metadata": {},
   "source": []
  }
 ],
 "metadata": {
  "kernelspec": {
   "display_name": "cloneTF2",
   "language": "python",
   "name": "python3"
  },
  "language_info": {
   "codemirror_mode": {
    "name": "ipython",
    "version": 3
   },
   "file_extension": ".py",
   "mimetype": "text/x-python",
   "name": "python",
   "nbconvert_exporter": "python",
   "pygments_lexer": "ipython3",
   "version": "3.10.11"
  }
 },
 "nbformat": 4,
 "nbformat_minor": 2
}
